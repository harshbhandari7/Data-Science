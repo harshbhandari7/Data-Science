{
  "nbformat": 4,
  "nbformat_minor": 0,
  "metadata": {
    "colab": {
      "name": "Numpy Notes",
      "provenance": [],
      "collapsed_sections": []
    },
    "kernelspec": {
      "name": "python3",
      "display_name": "Python 3"
    },
    "language_info": {
      "name": "python"
    }
  },
  "cells": [
    {
      "cell_type": "markdown",
      "source": [
        "**Numpy**\n",
        "\n",
        "NumPy, an acronym for the term ‘Numerical Python’, is a library in Python which is used extensively for efficient mathematical computing.\n",
        "\n",
        "This library allows users to store large amounts of data using less memory and perform extensive operations efficiently.\n",
        "\n",
        "It provides optimised and simpler functionalities to perform aforementioned operations using homogenous, one-dimensional and multidimensional arrays.\n",
        "\n",
        "Numpy array are homogeneous."
      ],
      "metadata": {
        "id": "0gqdU1FFHtqq"
      }
    },
    {
      "cell_type": "markdown",
      "source": [
        "**Numpy VS py list**\n",
        "\n",
        "\n",
        "\n",
        "*   List are slow, numpy array are fast.\n",
        "*   List store hetrogeneous data where as np array stores homogeneous data.\n",
        "\n",
        "*   np array element size can be controlled when intialising it(like int32 (4 Bytes), int16 (2 Bytes)). Values stored in a list have 4 things (Size 4 Bytes, Reference count 8 Bytes, Object Type 8 Bytes, Object Value 8 Bytes) so in total 28 Bytes to store a single element, where as numpy takes (8 or 4 or 2 dependending on intialisation). Hence it is easy to read less Bytes of memory.\n",
        "\n",
        "*   np array doesn't require type checking when iterating through objects.\n",
        "\n",
        "*   elements in np array are stored in continuous memeory allocation, whereas in py list elements are scattered over in memory."
      ],
      "metadata": {
        "id": "8dR4VMFMJR20"
      }
    },
    {
      "cell_type": "code",
      "source": [
        "import numpy as np"
      ],
      "metadata": {
        "id": "RFmbzgUZIV8N"
      },
      "execution_count": 1,
      "outputs": []
    },
    {
      "cell_type": "markdown",
      "source": [
        "#### **Basics**"
      ],
      "metadata": {
        "id": "_V9dKc1bPSMO"
      }
    },
    {
      "cell_type": "code",
      "source": [
        "a = np.array([1,2,3])"
      ],
      "metadata": {
        "id": "DOtHtEL1D9ot"
      },
      "execution_count": 2,
      "outputs": []
    },
    {
      "cell_type": "code",
      "source": [
        "b = np.array([[1.0,2.0,3.0], [4.0,5.0, 6.0]])"
      ],
      "metadata": {
        "id": "LeucQ-xYEDNo"
      },
      "execution_count": 3,
      "outputs": []
    },
    {
      "cell_type": "code",
      "source": [
        "# for creating array from interval values \n",
        "z = np.linspace(-np.pi, np.pi, 128, endpoint=True)"
      ],
      "metadata": {
        "id": "uyhc5M8XwJvl"
      },
      "execution_count": 4,
      "outputs": []
    },
    {
      "cell_type": "code",
      "source": [
        "# get dimension (1-D, 2-D or N-D)\n",
        "b.ndim"
      ],
      "metadata": {
        "id": "zl4zaBX2lTFS",
        "colab": {
          "base_uri": "https://localhost:8080/"
        },
        "outputId": "94ae0f7d-84e6-43b4-b0ea-70f72c85e381"
      },
      "execution_count": 5,
      "outputs": [
        {
          "output_type": "execute_result",
          "data": {
            "text/plain": [
              "2"
            ]
          },
          "metadata": {},
          "execution_count": 5
        }
      ]
    },
    {
      "cell_type": "code",
      "source": [
        "# get shape (no of rows and cols)\n",
        "b.shape"
      ],
      "metadata": {
        "colab": {
          "base_uri": "https://localhost:8080/"
        },
        "id": "_KX5lBjsP8oZ",
        "outputId": "d4395d00-2aa2-400d-c80a-b76780b99253"
      },
      "execution_count": 6,
      "outputs": [
        {
          "output_type": "execute_result",
          "data": {
            "text/plain": [
              "(2, 3)"
            ]
          },
          "metadata": {},
          "execution_count": 6
        }
      ]
    },
    {
      "cell_type": "code",
      "source": [
        "# get type\n",
        "a.dtype"
      ],
      "metadata": {
        "colab": {
          "base_uri": "https://localhost:8080/"
        },
        "id": "-7TpFLfdQKNR",
        "outputId": "2abe03ae-e077-4572-c430-62305e08985e"
      },
      "execution_count": 7,
      "outputs": [
        {
          "output_type": "execute_result",
          "data": {
            "text/plain": [
              "dtype('int64')"
            ]
          },
          "metadata": {},
          "execution_count": 7
        }
      ]
    },
    {
      "cell_type": "code",
      "source": [
        "# get item size (single element size)\n",
        "a.itemsize"
      ],
      "metadata": {
        "colab": {
          "base_uri": "https://localhost:8080/"
        },
        "id": "Vf0-Cgj7Ql6P",
        "outputId": "9892c23a-bdb1-4c9d-d2cd-c7f5dbd01878"
      },
      "execution_count": 8,
      "outputs": [
        {
          "output_type": "execute_result",
          "data": {
            "text/plain": [
              "8"
            ]
          },
          "metadata": {},
          "execution_count": 8
        }
      ]
    },
    {
      "cell_type": "code",
      "source": [
        "# get total size (total size of array)\n",
        "a.nbytes"
      ],
      "metadata": {
        "colab": {
          "base_uri": "https://localhost:8080/"
        },
        "id": "emzCmvmARHpv",
        "outputId": "8a722f36-cf50-4031-b2d3-23dc0fc98d62"
      },
      "execution_count": 9,
      "outputs": [
        {
          "output_type": "execute_result",
          "data": {
            "text/plain": [
              "24"
            ]
          },
          "metadata": {},
          "execution_count": 9
        }
      ]
    },
    {
      "cell_type": "markdown",
      "source": [
        "#### **accessing changing specific elements, rows, columns etc**"
      ],
      "metadata": {
        "id": "C2KrLGhsRvOE"
      }
    },
    {
      "cell_type": "code",
      "source": [
        "c = np.array([[1,2,3,4,5,6,7], [8,9,10,11,12,13,14]])"
      ],
      "metadata": {
        "id": "MVQQijPnR5Mi"
      },
      "execution_count": 10,
      "outputs": []
    },
    {
      "cell_type": "code",
      "source": [
        "# accessing specific element [r, c]\n",
        "c[1,6]"
      ],
      "metadata": {
        "colab": {
          "base_uri": "https://localhost:8080/"
        },
        "id": "BwnnNWRCSlC9",
        "outputId": "538550e8-d5b6-4f42-f59f-cf6c7e6faf2b"
      },
      "execution_count": 11,
      "outputs": [
        {
          "output_type": "execute_result",
          "data": {
            "text/plain": [
              "14"
            ]
          },
          "metadata": {},
          "execution_count": 11
        }
      ]
    },
    {
      "cell_type": "code",
      "source": [
        "# specific row\n",
        "c[0, :]"
      ],
      "metadata": {
        "colab": {
          "base_uri": "https://localhost:8080/"
        },
        "id": "eUySXeaGUC6i",
        "outputId": "3e01c652-61dd-4d82-e87f-f90fa4c41435"
      },
      "execution_count": 12,
      "outputs": [
        {
          "output_type": "execute_result",
          "data": {
            "text/plain": [
              "array([1, 2, 3, 4, 5, 6, 7])"
            ]
          },
          "metadata": {},
          "execution_count": 12
        }
      ]
    },
    {
      "cell_type": "code",
      "source": [
        "# specific col\n",
        "c[:, 5]"
      ],
      "metadata": {
        "colab": {
          "base_uri": "https://localhost:8080/"
        },
        "id": "5u8u-QLUUVr7",
        "outputId": "9dd45e26-598b-4f20-8314-7ff989f36c4e"
      },
      "execution_count": 13,
      "outputs": [
        {
          "output_type": "execute_result",
          "data": {
            "text/plain": [
              "array([ 6, 13])"
            ]
          },
          "metadata": {},
          "execution_count": 13
        }
      ]
    },
    {
      "cell_type": "code",
      "source": [
        "# step\n",
        "c[:, 1::2]"
      ],
      "metadata": {
        "colab": {
          "base_uri": "https://localhost:8080/"
        },
        "id": "Wz0IPwCbUZX0",
        "outputId": "cdcead58-d96e-4ee8-9894-a76a421dc8d4"
      },
      "execution_count": 14,
      "outputs": [
        {
          "output_type": "execute_result",
          "data": {
            "text/plain": [
              "array([[ 2,  4,  6],\n",
              "       [ 9, 11, 13]])"
            ]
          },
          "metadata": {},
          "execution_count": 14
        }
      ]
    },
    {
      "cell_type": "code",
      "source": [
        "# 3 d array\n",
        "\n",
        "three_d = np.array([[[[1,2,3], [4,5,6]], [[7,8,9], [10,11,12]]]])\n",
        "three_d"
      ],
      "metadata": {
        "colab": {
          "base_uri": "https://localhost:8080/"
        },
        "id": "PDqIxajVUrSF",
        "outputId": "27b38598-d418-4584-9f84-3e4c2bef812c"
      },
      "execution_count": 15,
      "outputs": [
        {
          "output_type": "execute_result",
          "data": {
            "text/plain": [
              "array([[[[ 1,  2,  3],\n",
              "         [ 4,  5,  6]],\n",
              "\n",
              "        [[ 7,  8,  9],\n",
              "         [10, 11, 12]]]])"
            ]
          },
          "metadata": {},
          "execution_count": 15
        }
      ]
    },
    {
      "cell_type": "markdown",
      "source": [
        "#### **Intialising Different types of array**"
      ],
      "metadata": {
        "id": "IGaiLo4Iy8Bj"
      }
    },
    {
      "cell_type": "code",
      "source": [
        "# all 0's matrix\n",
        "np.zeros(3)\n",
        "np.zeros((2,3)) # 2-D array"
      ],
      "metadata": {
        "colab": {
          "base_uri": "https://localhost:8080/"
        },
        "id": "AGfRgUxszELz",
        "outputId": "fef451cc-cb32-4036-cf8b-a7b4acbd6f52"
      },
      "execution_count": 16,
      "outputs": [
        {
          "output_type": "execute_result",
          "data": {
            "text/plain": [
              "array([[0., 0., 0.],\n",
              "       [0., 0., 0.]])"
            ]
          },
          "metadata": {},
          "execution_count": 16
        }
      ]
    },
    {
      "cell_type": "code",
      "source": [
        "# all 1's matrix\n",
        "np.ones(5)\n",
        "np.ones((2,2))\n",
        "np.ones((3,3), dtype='int32')"
      ],
      "metadata": {
        "colab": {
          "base_uri": "https://localhost:8080/"
        },
        "id": "piqGWV_UzZx_",
        "outputId": "cc75bad6-db33-4aee-af68-88782375880d"
      },
      "execution_count": 17,
      "outputs": [
        {
          "output_type": "execute_result",
          "data": {
            "text/plain": [
              "array([[1, 1, 1],\n",
              "       [1, 1, 1],\n",
              "       [1, 1, 1]], dtype=int32)"
            ]
          },
          "metadata": {},
          "execution_count": 17
        }
      ]
    },
    {
      "cell_type": "code",
      "source": [
        "# intitalise with any number\n",
        "np.full((2,2), 88)"
      ],
      "metadata": {
        "colab": {
          "base_uri": "https://localhost:8080/"
        },
        "id": "E76nFesYzzIb",
        "outputId": "9e221416-af7d-498d-dc10-7980a257ece3"
      },
      "execution_count": 18,
      "outputs": [
        {
          "output_type": "execute_result",
          "data": {
            "text/plain": [
              "array([[88, 88],\n",
              "       [88, 88]])"
            ]
          },
          "metadata": {},
          "execution_count": 18
        }
      ]
    },
    {
      "cell_type": "code",
      "source": [
        "# random deciaml nums\n",
        "np.random.rand(3,2)"
      ],
      "metadata": {
        "colab": {
          "base_uri": "https://localhost:8080/"
        },
        "id": "KtrXm6y89c4P",
        "outputId": "8f5cba36-aff3-45c7-9712-8704769d18af"
      },
      "execution_count": 19,
      "outputs": [
        {
          "output_type": "execute_result",
          "data": {
            "text/plain": [
              "array([[0.7231911 , 0.33597445],\n",
              "       [0.52770483, 0.15146943],\n",
              "       [0.19567208, 0.38163853]])"
            ]
          },
          "metadata": {},
          "execution_count": 19
        }
      ]
    },
    {
      "cell_type": "code",
      "source": [
        "# random integr nums\n",
        "np.random.randint(50,100, size=(2,2))"
      ],
      "metadata": {
        "colab": {
          "base_uri": "https://localhost:8080/"
        },
        "id": "TMbqu4ty96XL",
        "outputId": "f491f878-0167-4ad3-aa3e-9720a09b2329"
      },
      "execution_count": 20,
      "outputs": [
        {
          "output_type": "execute_result",
          "data": {
            "text/plain": [
              "array([[67, 74],\n",
              "       [85, 80]])"
            ]
          },
          "metadata": {},
          "execution_count": 20
        }
      ]
    },
    {
      "cell_type": "code",
      "source": [
        "# identity matrix\n",
        "np.identity(3)"
      ],
      "metadata": {
        "colab": {
          "base_uri": "https://localhost:8080/"
        },
        "id": "9UbSeo26-gMl",
        "outputId": "3825065a-6abc-4e62-d86c-416cbd1b2a0b"
      },
      "execution_count": 21,
      "outputs": [
        {
          "output_type": "execute_result",
          "data": {
            "text/plain": [
              "array([[1., 0., 0.],\n",
              "       [0., 1., 0.],\n",
              "       [0., 0., 1.]])"
            ]
          },
          "metadata": {},
          "execution_count": 21
        }
      ]
    },
    {
      "cell_type": "code",
      "source": [
        "# repeat an array\n",
        "arr = np.array([[1,2,3]])\n",
        "arr1 = np.repeat(arr,3,axis=0)\n",
        "print(arr1)"
      ],
      "metadata": {
        "colab": {
          "base_uri": "https://localhost:8080/"
        },
        "id": "5NmOo8G1_C5L",
        "outputId": "6bbbeeda-c503-447e-d3c0-77f4b553976b"
      },
      "execution_count": 22,
      "outputs": [
        {
          "output_type": "stream",
          "name": "stdout",
          "text": [
            "[[1 2 3]\n",
            " [1 2 3]\n",
            " [1 2 3]]\n"
          ]
        }
      ]
    },
    {
      "cell_type": "markdown",
      "source": [
        "#### **Mathematics**\n",
        "\n",
        "[numpy linear algebra docs](https://numpy.org/doc/stable/reference/routines.linalg.html)"
      ],
      "metadata": {
        "id": "e4FYhaVk1PPA"
      }
    },
    {
      "cell_type": "code",
      "source": [
        "d = np.array([1,2,3])\n",
        "np.sin(d)\n",
        "np.cos(d)\n",
        "np.tan(d)"
      ],
      "metadata": {
        "id": "_bHpKSxP_rdE",
        "colab": {
          "base_uri": "https://localhost:8080/"
        },
        "outputId": "97913c3f-b9be-4933-aae3-d7b2d550e0ca"
      },
      "execution_count": 23,
      "outputs": [
        {
          "output_type": "execute_result",
          "data": {
            "text/plain": [
              "array([ 1.55740772, -2.18503986, -0.14254654])"
            ]
          },
          "metadata": {},
          "execution_count": 23
        }
      ]
    },
    {
      "cell_type": "markdown",
      "source": [
        "\n",
        "#### **Brodcasting**"
      ],
      "metadata": {
        "id": "Qt_kZiuK5amS"
      }
    },
    {
      "cell_type": "code",
      "source": [
        "mat1 = np.ones((2,3), dtype='int32')\n",
        "mat2 = np.full((3,2), 2)\n",
        "\n",
        "# mat1 * mat2 will result in error as the shape is different\n",
        "\n",
        "np.matmul(mat1, mat2)\n",
        "\n",
        "# matmul works only for correct shapes if col no of one matrix matches row no of\n",
        "# another matix"
      ],
      "metadata": {
        "colab": {
          "base_uri": "https://localhost:8080/"
        },
        "id": "YN91dcKn2QFf",
        "outputId": "116b8d39-8c20-462e-8fb6-395650f6e8b3"
      },
      "execution_count": 24,
      "outputs": [
        {
          "output_type": "execute_result",
          "data": {
            "text/plain": [
              "array([[6, 6],\n",
              "       [6, 6]])"
            ]
          },
          "metadata": {},
          "execution_count": 24
        }
      ]
    },
    {
      "cell_type": "code",
      "source": [
        "# determinant\n",
        "e = np.identity(3, dtype='int32')\n",
        "# determinant of the identity matrix\n",
        "np.linalg.det(e)"
      ],
      "metadata": {
        "colab": {
          "base_uri": "https://localhost:8080/"
        },
        "id": "GltKk9BMGExV",
        "outputId": "a831b2b0-556e-4009-a23f-be6e3206b8da"
      },
      "execution_count": 25,
      "outputs": [
        {
          "output_type": "execute_result",
          "data": {
            "text/plain": [
              "1.0"
            ]
          },
          "metadata": {},
          "execution_count": 25
        }
      ]
    },
    {
      "cell_type": "markdown",
      "source": [
        "#### **Statistics**"
      ],
      "metadata": {
        "id": "Vdw2_gYrGN9f"
      }
    },
    {
      "cell_type": "code",
      "source": [
        "data = np.array([[1,2,3], [88,5,6], [98, 74 ,9]])"
      ],
      "metadata": {
        "id": "IFS06YaBGDFh"
      },
      "execution_count": 26,
      "outputs": []
    },
    {
      "cell_type": "code",
      "source": [
        "# min of data\n",
        "np.min(data) \n",
        "# min of each row\n",
        "np.min(data, axis=1)"
      ],
      "metadata": {
        "colab": {
          "base_uri": "https://localhost:8080/"
        },
        "id": "u1g1Bg6LGdfW",
        "outputId": "dd5d0ea7-7436-4652-dc87-0a1d2dd7483a"
      },
      "execution_count": 27,
      "outputs": [
        {
          "output_type": "execute_result",
          "data": {
            "text/plain": [
              "array([1, 5, 9])"
            ]
          },
          "metadata": {},
          "execution_count": 27
        }
      ]
    },
    {
      "cell_type": "code",
      "source": [
        "# max of data\n",
        "np.max(data)\n",
        "# max of each row\n",
        "np.max(data, axis=1)"
      ],
      "metadata": {
        "colab": {
          "base_uri": "https://localhost:8080/"
        },
        "id": "oxqsMXFxG35p",
        "outputId": "bf1807db-8794-4eaf-aae8-9e9c7bdaaad3"
      },
      "execution_count": 28,
      "outputs": [
        {
          "output_type": "execute_result",
          "data": {
            "text/plain": [
              "array([ 3, 88, 98])"
            ]
          },
          "metadata": {},
          "execution_count": 28
        }
      ]
    },
    {
      "cell_type": "code",
      "source": [
        "np.sum(data)"
      ],
      "metadata": {
        "colab": {
          "base_uri": "https://localhost:8080/"
        },
        "id": "_uK9nXYVIlJ2",
        "outputId": "9c240a35-a2d0-46ae-c049-6f488c55d339"
      },
      "execution_count": 29,
      "outputs": [
        {
          "output_type": "execute_result",
          "data": {
            "text/plain": [
              "286"
            ]
          },
          "metadata": {},
          "execution_count": 29
        }
      ]
    },
    {
      "cell_type": "markdown",
      "source": [
        "#### **Reorganising array**"
      ],
      "metadata": {
        "id": "MMdYv3w1J4pq"
      }
    },
    {
      "cell_type": "code",
      "source": [
        "# reshape\n",
        "before = np.array([[1,2,3,4],[5,6,7,8]])\n",
        "after = np.reshape(before, (4,2))\n",
        "after"
      ],
      "metadata": {
        "colab": {
          "base_uri": "https://localhost:8080/"
        },
        "id": "43dg1BDqJwQY",
        "outputId": "aeaf3e89-c633-45c1-aac5-ce5d603efddc"
      },
      "execution_count": 30,
      "outputs": [
        {
          "output_type": "execute_result",
          "data": {
            "text/plain": [
              "array([[1, 2],\n",
              "       [3, 4],\n",
              "       [5, 6],\n",
              "       [7, 8]])"
            ]
          },
          "metadata": {},
          "execution_count": 30
        }
      ]
    },
    {
      "cell_type": "code",
      "source": [
        "# vertically stacking matrices (col num should be same)\n",
        "\n",
        "v1 = np.array([1,2,3,4])\n",
        "v2 = np.array([5,6,7,8])\n",
        "np.vstack((v1,v2))"
      ],
      "metadata": {
        "colab": {
          "base_uri": "https://localhost:8080/"
        },
        "id": "Uqg_adnaNpLt",
        "outputId": "d46ee5e3-dacc-439a-ce47-296b9cfbc32c"
      },
      "execution_count": 31,
      "outputs": [
        {
          "output_type": "execute_result",
          "data": {
            "text/plain": [
              "array([[1, 2, 3, 4],\n",
              "       [5, 6, 7, 8]])"
            ]
          },
          "metadata": {},
          "execution_count": 31
        }
      ]
    },
    {
      "cell_type": "code",
      "source": [
        "# horizontal stacking matrices (row num should be same)\n",
        "\n",
        "h1 = np.ones((2,4))\n",
        "h2 = np.zeros((2,2))\n",
        "np.hstack((h1,h2))"
      ],
      "metadata": {
        "colab": {
          "base_uri": "https://localhost:8080/"
        },
        "id": "V2rGlJByQqNO",
        "outputId": "051c0910-cc73-40a4-ef39-aa8fb5144638"
      },
      "execution_count": 32,
      "outputs": [
        {
          "output_type": "execute_result",
          "data": {
            "text/plain": [
              "array([[1., 1., 1., 1., 0., 0.],\n",
              "       [1., 1., 1., 1., 0., 0.]])"
            ]
          },
          "metadata": {},
          "execution_count": 32
        }
      ]
    },
    {
      "cell_type": "markdown",
      "source": [
        "#### **Advanced indexing and boolean masking**\n",
        "\n",
        "Boolean masking is typically the most efficient way to quantify a sub-collection in a collection. Masking in python and data science is when you want manipulated data in a collection based on some criteria. The criteria you use is typically of a true or false nature, hence the boolean part. They can also be used for indexing but it is very different as compare to index arrays.\n",
        "\n"
      ],
      "metadata": {
        "id": "zhUQa5UNYrdj"
      }
    },
    {
      "cell_type": "code",
      "source": [
        "arr = np.array([85,95,4,1,2,24,51,8,97])\n",
        "arr[arr > 50]"
      ],
      "metadata": {
        "colab": {
          "base_uri": "https://localhost:8080/"
        },
        "id": "XnXZOXizQ_eP",
        "outputId": "53c47760-a08e-4581-c145-4115c79b569d"
      },
      "execution_count": 33,
      "outputs": [
        {
          "output_type": "execute_result",
          "data": {
            "text/plain": [
              "array([85, 95, 51, 97])"
            ]
          },
          "metadata": {},
          "execution_count": 33
        }
      ]
    },
    {
      "cell_type": "code",
      "source": [
        "arr[[2,3,7]]"
      ],
      "metadata": {
        "colab": {
          "base_uri": "https://localhost:8080/"
        },
        "id": "C_WTIeOiYHhy",
        "outputId": "d630024d-0da0-48b5-a701-3e9d4fcf9cca"
      },
      "execution_count": 34,
      "outputs": [
        {
          "output_type": "execute_result",
          "data": {
            "text/plain": [
              "array([4, 1, 8])"
            ]
          },
          "metadata": {},
          "execution_count": 34
        }
      ]
    },
    {
      "cell_type": "code",
      "source": [
        "soln = np.ones((5,5), dtype='int32')\n",
        "soln = np.vstack(([1,2,3,4,5], soln))\n",
        "soln"
      ],
      "metadata": {
        "colab": {
          "base_uri": "https://localhost:8080/"
        },
        "id": "y1UubN_-ZIUI",
        "outputId": "e6677fe5-0d13-4dbb-f10f-4e2f27fe341f"
      },
      "execution_count": 36,
      "outputs": [
        {
          "output_type": "execute_result",
          "data": {
            "text/plain": [
              "array([[1, 2, 3, 4, 5],\n",
              "       [1, 1, 1, 1, 1],\n",
              "       [1, 1, 1, 1, 1],\n",
              "       [1, 1, 1, 1, 1],\n",
              "       [1, 1, 1, 1, 1],\n",
              "       [1, 1, 1, 1, 1]])"
            ]
          },
          "metadata": {},
          "execution_count": 36
        }
      ]
    },
    {
      "cell_type": "code",
      "source": [
        ""
      ],
      "metadata": {
        "id": "XgFaJ16a2avi"
      },
      "execution_count": null,
      "outputs": []
    }
  ]
}