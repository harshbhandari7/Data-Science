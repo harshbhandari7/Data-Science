{
 "cells": [
  {
   "cell_type": "markdown",
   "metadata": {
    "id": "fOtSyK2FZLSF"
   },
   "source": [
    "# **Data Visualisation 101**"
   ]
  },
  {
   "cell_type": "markdown",
   "metadata": {
    "id": "g-uQcup2Fm0W"
   },
   "source": [
    "### **Kaggle Data Visualisation Course Learnings**\n",
    "\n",
    "[Link to the course](https://www.kaggle.com/learn/data-visualization)\n",
    "\n",
    "Since it is not always easy to decide how to best tell the story behind your data, we've broken the chart types into three broad categories to help with this.\n",
    "\n",
    "- **Trends** - A trend is defined as a pattern of change.\n",
    "\n",
    "  - **sns.lineplot** - Line charts are best to show trends over a period of time, and multiple lines can be used to show trends in more than one group.\n",
    "- **Relationship** - There are many different chart types that you can use to understand relationships between variables in your data.\n",
    "  - **sns.barplot** - Bar charts are useful for comparing quantities corresponding to different groups.\n",
    "  - **sns.heatmap** - Heatmaps can be used to find color-coded patterns in tables of numbers.\n",
    "  - **sns.scatterplot** - Scatter plots show the relationship between two continuous variables; if color-coded, we can also show the relationship with a third categorical variable.\n",
    "  - **sns.regplot** - Including a regression line in the scatter plot makes it easier to see any linear relationship between two variables.\n",
    "  - **sns.lmplot** - This command is useful for drawing multiple regression lines, if the scatter plot contains multiple, color-coded groups.\n",
    "  - **sns.swarmplot** - Categorical scatter plots show the relationship between a continuous variable and a categorical variable.\n",
    "- **Distribution** - We visualize distributions to show the possible values that we can expect to see in a variable, along with how likely they are.\n",
    "  - **sns.distplot** - Histograms show the distribution of a single numerical variable.\n",
    "  - **sns.kdeplot** - KDE plots (or 2D KDE plots) show an estimated, smooth distribution of a single numerical variable (or two numerical variables).\n",
    "  - **sns.jointplot** - This command is useful for simultaneously displaying a 2D KDE plot with the corresponding KDE plots for each individual variable."
   ]
  },
  {
   "cell_type": "markdown",
   "metadata": {
    "id": "9FLipKsiaPlC"
   },
   "source": [
    "### **Other Learnings**\n",
    "\n",
    "For a single numeric column you can use a **box-plot** or a **histogram**.\n",
    "\n",
    "If you want to plot the relationship between two numeric variables, you will be using something known as a **scatter plot**. \n",
    "\n",
    "Scatter plots are perhaps one of the most commonly used as well one of the most powerful visualisations you can use in the field of machine learning. They are pretty crucial in revealing relationships between the data points and you can generally deduce some sort of trends in the data with the help of a scatter plot. \n",
    "\n",
    "**Applications of scatter plots in machine learning**\n",
    "\n",
    "- Observing trends between numeric variables: Because scatter plots can reveal patterns in the data, they’re a necessity in linear regression problems where you want to determine whether making a linear model, i.e. using a straight line to predict something makes sense or not. Check out the diagram given below.\n",
    "\n",
    "- Observing natural clusters in the data: In simple terms, clustering is the act of grouping similar entities to clusters.\n",
    "\n",
    "Now, in case there are 4-5 numeric variables that you want to analyse, making a jointplot for every 2 numeric variables is a bit tedious. To overcome this limitation, let’s learn another functionality, the **pair plots**.\n",
    "\n",
    "**Application of pair plots in Machine Learning**\n",
    "\n",
    "- Pairplots instantly give you the relationship between one numeric variable with the rest of the numeric variables. This is pretty useful in identifying relationships between the target variable and the rest of the features.\n",
    "\n",
    "For example, say you want to predict how your company’s sales are affected by budgets allocated to three different types of advertisement channels - TV, Newspaper and Radio. In order to choose, you need to create a pair plot containing profits and the three different budgets as the variables.\n",
    "\n",
    "\n",
    "**The concept of binning**, where you convert a numeric variable to a categorical variable by bucketing a specific range of values. This is pretty useful during analyses where you can create useful buckets and analyse how some other variable changes across those buckets.\n",
    "\n",
    "One of the most common examples of binning happens in demographic survey datasets (like Census or Market research surveys) that contain the Age column, where people can be categorised as Under-12, 12-17, 18-24 and so on. Despite the actual age of the person being a numeric value, it's much easier to analyse across buckets and gather insights( like asking how many people in the 12-17 age bucket have gone to school, how many of them prefer a particular brand over the other and so on)\n",
    " \n",
    "\n",
    "For binning purposes, you utilised the **pd.qcut method**, which divided the entire Size column to the following buckets on the basis of the percentiles. Note that pd.qcut takes percentile values in decimals, as in 20th percentile becomes 0.2, 40th percentile becomes 0.4 and so on.\n",
    "\n",
    "\n",
    "**Heat maps** are predominantly used in machine learning problems to visualise a  Correlation Matrix, a grid that shows the correlation between any two quantitative variables. As mentioned in the additional notes of previous segments, understanding the correlation between variables is crucial for building and evaluating any ML model.\n",
    "\n",
    "Earlier, you learnt how to analyse categorical variables using a bar chart. You can also add another categorical variable to the mix and analyse it even further with the help of a stacked bar chart."
   ]
  },
  {
   "cell_type": "code",
   "execution_count": null,
   "metadata": {
    "id": "hz-wKdXsaUB-"
   },
   "outputs": [],
   "source": []
  }
 ],
 "metadata": {
  "colab": {
   "collapsed_sections": [],
   "name": "matplot_seaborn_basics",
   "provenance": []
  },
  "kernelspec": {
   "display_name": "Python 3 (ipykernel)",
   "language": "python",
   "name": "python3"
  },
  "language_info": {
   "codemirror_mode": {
    "name": "ipython",
    "version": 3
   },
   "file_extension": ".py",
   "mimetype": "text/x-python",
   "name": "python",
   "nbconvert_exporter": "python",
   "pygments_lexer": "ipython3",
   "version": "3.9.5"
  }
 },
 "nbformat": 4,
 "nbformat_minor": 4
}
